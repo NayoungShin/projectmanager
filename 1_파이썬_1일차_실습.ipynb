{
  "nbformat": 4,
  "nbformat_minor": 0,
  "metadata": {
    "colab": {
      "provenance": [],
      "toc_visible": true,
      "authorship_tag": "ABX9TyNksqXLgtsJoCyNlnFcHzZz",
      "include_colab_link": true
    },
    "kernelspec": {
      "name": "python3",
      "display_name": "Python 3"
    },
    "language_info": {
      "name": "python"
    }
  },
  "cells": [
    {
      "cell_type": "markdown",
      "metadata": {
        "id": "view-in-github",
        "colab_type": "text"
      },
      "source": [
        "<a href=\"https://colab.research.google.com/github/NayoungShin/projectmanager/blob/main/1_%ED%8C%8C%EC%9D%B4%EC%8D%AC_1%EC%9D%BC%EC%B0%A8_%EC%8B%A4%EC%8A%B5.ipynb\" target=\"_parent\"><img src=\"https://colab.research.google.com/assets/colab-badge.svg\" alt=\"Open In Colab\"/></a>"
      ]
    },
    {
      "cell_type": "markdown",
      "source": [
        "#파이썬 기초 프로그래밍-1일차 실습\n"
      ],
      "metadata": {
        "id": "Kxe-N_WyeWXA"
      }
    },
    {
      "cell_type": "code",
      "execution_count": null,
      "metadata": {
        "id": "hiifoPbVdhOf"
      },
      "outputs": [],
      "source": []
    },
    {
      "cell_type": "markdown",
      "source": [
        "1."
      ],
      "metadata": {
        "id": "iL2TdpXdeiqY"
      }
    },
    {
      "cell_type": "markdown",
      "source": [
        "2."
      ],
      "metadata": {
        "id": "0AtEwIzpe6HX"
      }
    },
    {
      "cell_type": "markdown",
      "source": [
        "**간단 계산기 프로그램**\n",
        "\n"
      ],
      "metadata": {
        "id": "mjT87DARfJRA"
      }
    },
    {
      "cell_type": "code",
      "source": [
        "a=100\n",
        "b=50\n",
        "print('덧셈:',a+b)\n",
        "print('뺄셈:',a-b)\n",
        "print('곱셈:', a*b)\n",
        "print('나눗셈:',a/b)\n"
      ],
      "metadata": {
        "colab": {
          "base_uri": "https://localhost:8080/"
        },
        "id": "02X7jBhBfxJQ",
        "outputId": "fb324e14-d19c-4274-ea74-02b97894d746"
      },
      "execution_count": null,
      "outputs": [
        {
          "output_type": "stream",
          "name": "stdout",
          "text": [
            "덧셈: 150\n",
            "뺄셈: 50\n",
            "곱셈: 5000\n",
            "나눗셈: 2.0\n"
          ]
        }
      ]
    },
    {
      "cell_type": "code",
      "source": [],
      "metadata": {
        "id": "pHieWsnpfsJf"
      },
      "execution_count": null,
      "outputs": []
    }
  ]
}