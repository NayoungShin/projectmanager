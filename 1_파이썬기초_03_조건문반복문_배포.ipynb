{
  "cells": [
    {
      "cell_type": "markdown",
      "metadata": {
        "id": "view-in-github",
        "colab_type": "text"
      },
      "source": [
        "<a href=\"https://colab.research.google.com/github/NayoungShin/projectmanager/blob/main/1_%ED%8C%8C%EC%9D%B4%EC%8D%AC%EA%B8%B0%EC%B4%88_03_%EC%A1%B0%EA%B1%B4%EB%AC%B8%EB%B0%98%EB%B3%B5%EB%AC%B8_%EB%B0%B0%ED%8F%AC.ipynb\" target=\"_parent\"><img src=\"https://colab.research.google.com/assets/colab-badge.svg\" alt=\"Open In Colab\"/></a>"
      ]
    },
    {
      "cell_type": "markdown",
      "id": "25f81d8c",
      "metadata": {
        "id": "25f81d8c"
      },
      "source": [
        "# 파이썬 기초 다지기"
      ]
    },
    {
      "cell_type": "markdown",
      "id": "3f3da3bd",
      "metadata": {
        "id": "3f3da3bd"
      },
      "source": [
        "## 3- 조건문과 반복문\n",
        "데이터와 처리의 흐름을 제어하는 조건문과 반목문"
      ]
    },
    {
      "cell_type": "markdown",
      "id": "0c52a67e",
      "metadata": {
        "id": "0c52a67e"
      },
      "source": [
        "----------------------------------"
      ]
    },
    {
      "cell_type": "markdown",
      "id": "aee8f2e8",
      "metadata": {
        "id": "aee8f2e8"
      },
      "source": [
        "## 3-1.if 조건문"
      ]
    },
    {
      "cell_type": "markdown",
      "id": "e89f3546",
      "metadata": {
        "id": "e89f3546"
      },
      "source": [
        "### 조건문: if"
      ]
    },
    {
      "cell_type": "code",
      "execution_count": 3,
      "id": "4f161d86",
      "metadata": {
        "colab": {
          "base_uri": "https://localhost:8080/"
        },
        "id": "4f161d86",
        "outputId": "887c2bfd-3ca6-4b65-9670-6b348a51ac28"
      },
      "outputs": [
        {
          "output_type": "stream",
          "name": "stdout",
          "text": [
            "숫자를 입력하세요:100\n",
            "100는 100보다 크지 않거나 같군요!\n"
          ]
        }
      ],
      "source": [
        "a=int(input('숫자를 입력하세요:'))\n",
        "if a>100:\n",
        "    print(f'{a}는 100보다 크군요!')\n",
        "else:\n",
        "    print(f'{a}는 100보다 크지 않거나 같군요!')\n",
        "\n"
      ]
    },
    {
      "cell_type": "markdown",
      "id": "cb89ea65",
      "metadata": {
        "id": "cb89ea65"
      },
      "source": [
        "### 조건문: if ~ else"
      ]
    },
    {
      "cell_type": "code",
      "execution_count": null,
      "id": "6eca2413",
      "metadata": {
        "id": "6eca2413"
      },
      "outputs": [],
      "source": [
        "a=int(input('숫자를 입력하세요:'))\n",
        "if a>100:\n",
        "    print(f'{a}는 100보다 크군요!')\n",
        "    if a>200:\n",
        "      print(f'{a}는 200보다 크군요!')\n",
        "    else:\n",
        "      print(f'{a}는 200보다 같거나 크지 않군요!')\n",
        "else:\n",
        "    if a== 100:\n",
        "      print(f{})\n",
        "    print(f'{a}는 100보다 크지 않거나 같군요!')\n"
      ]
    },
    {
      "cell_type": "markdown",
      "id": "13b404bd",
      "metadata": {
        "id": "13b404bd"
      },
      "source": [
        "### 조건문 : 중첩if"
      ]
    },
    {
      "cell_type": "code",
      "execution_count": 6,
      "id": "9575f530",
      "metadata": {
        "colab": {
          "base_uri": "https://localhost:8080/"
        },
        "id": "9575f530",
        "outputId": "a45842ba-e25d-44d0-c535-bde93cb415c8"
      },
      "outputs": [
        {
          "output_type": "stream",
          "name": "stdout",
          "text": [
            "숫자를 입력하세요: 150\n",
            "150는 100보다 크군요!\n",
            "150는 200보다 같거나 크지 않군요!\n"
          ]
        }
      ],
      "source": [
        "\n",
        "a = int(input('숫자를 입력하세요: '))\n",
        "if a > 100:\n",
        "    print(f'{a}는 100보다 크군요!')\n",
        "    if a > 200:\n",
        "        print(f'{a}는 200보다 크군요!')\n",
        "    else:\n",
        "        print(f'{a}는 200보다 같거나 크지 않군요!')\n",
        "else:\n",
        "    if a == 100:\n",
        "        print(f'{a}는 100과 같군요!')\n",
        "    else:\n",
        "        print(f'{a}는 100보다 작군요!')"
      ]
    },
    {
      "cell_type": "markdown",
      "source": [
        "### 조건문 : if~~~elif~~~else         200 이상인거, 100과 200사이, 100과 같은거, 100 미만인것"
      ],
      "metadata": {
        "id": "TrtdZpkhkCcT"
      },
      "id": "TrtdZpkhkCcT"
    },
    {
      "cell_type": "code",
      "source": [
        "a = int(input('숫자를 입력하세요: '))\n",
        "if a > 200:\n",
        "    print(f'{a}는 200보다 크군요!')\n",
        "elif a > 100:\n",
        "    print(f'{a}는 100보다 크고 200보다 작거나 같군요!')\n",
        "elif a == 100:\n",
        "    print(f'{a}는 100과 같군요!')\n",
        "else:\n",
        "    print(f'{a}는 100보다 작군요!')"
      ],
      "metadata": {
        "id": "afbhKxL9jGwR"
      },
      "id": "afbhKxL9jGwR",
      "execution_count": null,
      "outputs": []
    },
    {
      "cell_type": "markdown",
      "id": "349dec8b",
      "metadata": {
        "id": "349dec8b"
      },
      "source": [
        "### [실습문제] 짝수/홀수 판별하기"
      ]
    },
    {
      "cell_type": "code",
      "execution_count": 2,
      "id": "de48c13d",
      "metadata": {
        "colab": {
          "base_uri": "https://localhost:8080/"
        },
        "id": "de48c13d",
        "outputId": "727270f3-5dde-4274-843c-a1032627e8a9"
      },
      "outputs": [
        {
          "output_type": "stream",
          "name": "stdout",
          "text": [
            "숫자를 입력해 주세요 : 234\n",
            "입력된 수 : 234 ==> 짝수\n"
          ]
        }
      ],
      "source": [
        "x = int(input('숫자를 입력해 주세요 : '))\n",
        "\n",
        "if x%2 ==0:     # 짝수/홀수 조건 판별하기\n",
        "  print(f'입력된 수 : {x} ==> 짝수')\n",
        "else:\n",
        "  print(f'입력된 수 : {x} ==> 홀수')"
      ]
    },
    {
      "cell_type": "code",
      "source": [
        "#멤버쉽 연산자 사용해서 조건문 판별하기\n",
        "a=[1,2,3,4,5]\n",
        "x=7\n",
        "if x in a:\n",
        "  print(f'{x}는 {a} 리스트에 포함되어 있습니다.')\n",
        "else:\n",
        " print(f'{x}는 {a} 리스트에 포함되어 있지 않습니다.')"
      ],
      "metadata": {
        "colab": {
          "base_uri": "https://localhost:8080/"
        },
        "id": "yW896azTlvPt",
        "outputId": "c7fb081e-9520-4477-f3a6-d7c1062e1865"
      },
      "id": "yW896azTlvPt",
      "execution_count": 7,
      "outputs": [
        {
          "output_type": "stream",
          "name": "stdout",
          "text": [
            "7는 [1, 2, 3, 4, 5] 리스트에 포함되어 있지 않습니다.\n"
          ]
        }
      ]
    },
    {
      "cell_type": "markdown",
      "id": "30919e6b",
      "metadata": {
        "id": "30919e6b"
      },
      "source": [
        "### [실습문제]\n",
        "피타고라스 정리에 의해 직각삼각형의 세 변의 길이에 대한 관계는 아래와 같습니다. 이 정리를 이용하여 세 변의 길이를 입력 받은 삼각형이 직각삼각형인지 아닌지 판별하는 프로그램을 만들어 보세요.\n"
      ]
    },
    {
      "cell_type": "code",
      "execution_count": 15,
      "id": "f6e6ca29",
      "metadata": {
        "scrolled": false,
        "colab": {
          "base_uri": "https://localhost:8080/"
        },
        "id": "f6e6ca29",
        "outputId": "2f1fa86c-6130-44cb-995a-e6bdcb80f529"
      },
      "outputs": [
        {
          "output_type": "stream",
          "name": "stdout",
          "text": [
            "변 a의 길이: 3\n",
            "변 b의 길이: 4\n",
            "변 c의 길이: 5\n",
            "------------------------------\n",
            " 세변 3, 4. 5는 직각삼각형입니다\n"
          ]
        }
      ],
      "source": [
        "# 1. 세 변의 길이 입력 받기\n",
        "a = int(input('변 a의 길이: '))\n",
        "b = int(input('변 b의 길이: '))\n",
        "c = int(input('변 c의 길이: '))  #빗변이라 가정한다.\n",
        "\n",
        "print('-' * 30)  # 분리 선\n",
        "\n",
        "# 2. 직각삼각형 판별하기\n",
        "\n",
        "if (a**2+b**2)==c**2:\n",
        "  print(f' 세변 {a}, {b}. {c}는 직각삼각형입니다')\n",
        "else:\n",
        "  print(f' 세변 {a}, {b}. {c}는 직각삼각형이 아닙니다.')\n",
        "\n"
      ]
    },
    {
      "cell_type": "code",
      "source": [
        "# [참고] 기술통계 수학 함수 ----------------------\n",
        "a = [1,2,3,4,5]\n",
        "print(f'{a}의 개수(길이): {len(a)}' )\n",
        "print(f'{a}의 합계  : {sum(a)}' )\n",
        "print(f'{a}의 최소값: {min(a)}' )\n",
        "print(f'{a}의 최대값: {max(a)}' )\n",
        "print(f'{a}의 평균  : {sum(a)/len(a)}' )"
      ],
      "metadata": {
        "colab": {
          "base_uri": "https://localhost:8080/"
        },
        "id": "-YYIYdoLrlr_",
        "outputId": "2da51e2a-576a-4807-87ad-c9bcebabcde6"
      },
      "id": "-YYIYdoLrlr_",
      "execution_count": 11,
      "outputs": [
        {
          "output_type": "stream",
          "name": "stdout",
          "text": [
            "[1, 2, 3, 4, 5]의 개수(길이): 5\n",
            "[1, 2, 3, 4, 5]의 합계  : 15\n",
            "[1, 2, 3, 4, 5]의 최소값: 1\n",
            "[1, 2, 3, 4, 5]의 최대값: 5\n",
            "[1, 2, 3, 4, 5]의 평균  : 3.0\n"
          ]
        }
      ]
    },
    {
      "cell_type": "code",
      "source": [
        "#실습문제  내가 한거\n",
        "a = int(input(f'점수를 입력해주세요'))\n",
        "if a>=90 :        # a>89라고 해도 됨\n",
        "  print(f'성적 {a}는 A등급입니다.')\n",
        "elif 90>=a>=80 :\n",
        "  print(f'성적 {a}는 B등급입니다.')\n",
        "elif 80>=a>=70 :\n",
        "  print(f'성적 {a}는 c등급입니다.')\n",
        "else:\n",
        "  print(f'성적 {a}는 d등급입니다.')\n",
        "\n",
        "\n"
      ],
      "metadata": {
        "colab": {
          "base_uri": "https://localhost:8080/"
        },
        "id": "WEia5MFFtiUA",
        "outputId": "c154f981-392c-451d-b438-b831dda6d7fb"
      },
      "id": "WEia5MFFtiUA",
      "execution_count": 31,
      "outputs": [
        {
          "output_type": "stream",
          "name": "stdout",
          "text": [
            "점수를 입력해주세요80\n",
            "성적 80는 B등급입니다.\n"
          ]
        }
      ]
    },
    {
      "cell_type": "code",
      "source": [
        "score = int(input('성적을 입력해 주세요: '))   # 강사님이 한거\n",
        "print('-' * 30)\n",
        "grade = 'D'\n",
        "\n",
        "if score >= 90:\n",
        "    grade = 'A'\n",
        "elif score >= 80:\n",
        "    grade = 'B'\n",
        "elif score >= 70:\n",
        "    grade = 'C'\n",
        "\n",
        "print(f'성적: {score}점은 {grade}등급 입니다.')\n",
        "\n"
      ],
      "metadata": {
        "id": "Ilti9n39w-lw"
      },
      "id": "Ilti9n39w-lw",
      "execution_count": null,
      "outputs": []
    },
    {
      "cell_type": "code",
      "source": [
        "score = int(input('성적을 입력해주세요: '))\n",
        "\n",
        "if score >= 90:\n",
        "  grade = \"A\"\n",
        "  print(f\"성적: {score}는 {grade}등급 입니다\")\n",
        "if 90 > score >= 80:\n",
        "  grade = \"B\"\n",
        "  print(f\"성적: {score}는 {grade}등급 입니다\")\n",
        "if 80 > score >= 70:\n",
        "  grade = \"C\"\n",
        "  print(f\"성적: {score}는 {grade}등급 입니다\")\n",
        "if 70 > score >= 0:\n",
        "  grade = \"D\"\n",
        "  print(f\"성적: {score}는 {grade}등급 입니다\")"
      ],
      "metadata": {
        "colab": {
          "base_uri": "https://localhost:8080/"
        },
        "id": "VoIIBU7ixMQc",
        "outputId": "c07fe5f5-e750-4c78-e3be-a9c290dfbe7d"
      },
      "id": "VoIIBU7ixMQc",
      "execution_count": 32,
      "outputs": [
        {
          "output_type": "stream",
          "name": "stdout",
          "text": [
            "성적을 입력해주세요: 87\n",
            "성적: 87는 B등급 입니다\n"
          ]
        }
      ]
    },
    {
      "cell_type": "code",
      "source": [
        "a = int(input('온도를 입력해주세요: '))\n",
        "if a>=30 :\n",
        "  print(f'에어컨을 켜주세요.')\n",
        "elif a<15 :\n",
        "  print(f'내복을 입어주세요.')\n",
        "  if a<=10:\n",
        "    print(f'난방기를 켜주세요.')\n",
        "else:\n",
        "  print(f'쾌적한 온도입니다.')"
      ],
      "metadata": {
        "colab": {
          "base_uri": "https://localhost:8080/"
        },
        "id": "tq-GVpq0xgLY",
        "outputId": "ecdb9a03-337b-4832-db54-066dbe9f7afb"
      },
      "id": "tq-GVpq0xgLY",
      "execution_count": 5,
      "outputs": [
        {
          "output_type": "stream",
          "name": "stdout",
          "text": [
            "온도를 입력해주세요: 12\n",
            "내복을 입어주세요.\n"
          ]
        }
      ]
    },
    {
      "cell_type": "code",
      "source": [
        "temp = int(input(\"현재 온도를 넣으세요: \"))\n",
        "speaker = \"온도가 쾌적해요\"\n",
        "\n",
        "if temp >= 30:\n",
        "    speaker = \"에어컨을 켜세요\"\n",
        "elif temp < 15:\n",
        "    speaker = \"내복을 입으세요\"\n",
        "    if temp <= 10:\n",
        "        speaker = \"난방기를 켜세요\"\n",
        "\n",
        "print(f'온도 {temp}도 일때는 {speaker}')"
      ],
      "metadata": {
        "colab": {
          "base_uri": "https://localhost:8080/"
        },
        "id": "QItbJylQ1fEx",
        "outputId": "19f3e016-467b-43dc-f195-ac5271cd08b9"
      },
      "id": "QItbJylQ1fEx",
      "execution_count": 6,
      "outputs": [
        {
          "output_type": "stream",
          "name": "stdout",
          "text": [
            "현재 온도를 넣으세요: 12\n",
            "온도 12도 일때는 내복을 입으세요\n"
          ]
        }
      ]
    },
    {
      "cell_type": "markdown",
      "source": [
        "###코랩 (윈도우)에서 gTTS기능 사용하기"
      ],
      "metadata": {
        "id": "t-Ei2hlo-ANp"
      },
      "id": "t-Ei2hlo-ANp"
    },
    {
      "cell_type": "code",
      "source": [
        "!pip install gtts"
      ],
      "metadata": {
        "colab": {
          "base_uri": "https://localhost:8080/"
        },
        "id": "-P3Tjtbj99Ax",
        "outputId": "5749257b-6001-4598-8449-d861a6d3d1f5"
      },
      "id": "-P3Tjtbj99Ax",
      "execution_count": 7,
      "outputs": [
        {
          "output_type": "stream",
          "name": "stdout",
          "text": [
            "Collecting gtts\n",
            "  Downloading gTTS-2.3.2-py3-none-any.whl (28 kB)\n",
            "Requirement already satisfied: requests<3,>=2.27 in /usr/local/lib/python3.10/dist-packages (from gtts) (2.31.0)\n",
            "Requirement already satisfied: click<8.2,>=7.1 in /usr/local/lib/python3.10/dist-packages (from gtts) (8.1.6)\n",
            "Requirement already satisfied: charset-normalizer<4,>=2 in /usr/local/lib/python3.10/dist-packages (from requests<3,>=2.27->gtts) (3.2.0)\n",
            "Requirement already satisfied: idna<4,>=2.5 in /usr/local/lib/python3.10/dist-packages (from requests<3,>=2.27->gtts) (3.4)\n",
            "Requirement already satisfied: urllib3<3,>=1.21.1 in /usr/local/lib/python3.10/dist-packages (from requests<3,>=2.27->gtts) (2.0.4)\n",
            "Requirement already satisfied: certifi>=2017.4.17 in /usr/local/lib/python3.10/dist-packages (from requests<3,>=2.27->gtts) (2023.7.22)\n",
            "Installing collected packages: gtts\n",
            "Successfully installed gtts-2.3.2\n"
          ]
        }
      ]
    },
    {
      "cell_type": "code",
      "source": [
        "from gtts import gTTS\n",
        "from IPython.display import Audio\n",
        "\n",
        "kor_wav = gTTS('안녕 여러분!', lang = 'ko')\n",
        "kor_wav.save('kor.wav')\n",
        "\n",
        "display(Audio('kor.wav', autoplay=True))"
      ],
      "metadata": {
        "colab": {
          "base_uri": "https://localhost:8080/",
          "height": 74
        },
        "id": "1iZs-A3k-JOs",
        "outputId": "c5c617d9-eb78-4f26-817d-f673b38328eb"
      },
      "id": "1iZs-A3k-JOs",
      "execution_count": 15,
      "outputs": [
        {
          "output_type": "display_data",
          "data": {
            "text/plain": [
              "<IPython.lib.display.Audio object>"
            ],
            "text/html": [
              "\n",
              "                <audio  controls=\"controls\" autoplay=\"autoplay\">\n",
              "                    <source src=\"data:audio/x-wav;base64,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\" type=\"audio/x-wav\" />\n",
              "                    Your browser does not support the audio element.\n",
              "                </audio>\n",
              "              "
            ]
          },
          "metadata": {}
        }
      ]
    },
    {
      "cell_type": "code",
      "source": [
        "from gtts import gTTS\n",
        "from IPython.display import Audio\n",
        "\n",
        "eng_wav = gTTS('hello!', lang = 'en')\n",
        "eng_wav.save('eng.wav')\n",
        "\n",
        "display(Audio('eng.wav', autoplay=True))"
      ],
      "metadata": {
        "colab": {
          "base_uri": "https://localhost:8080/",
          "height": 74
        },
        "id": "fvl1TcaC_CvJ",
        "outputId": "3a016c8f-f247-4a09-ff9d-de48f9e91797"
      },
      "id": "fvl1TcaC_CvJ",
      "execution_count": 17,
      "outputs": [
        {
          "output_type": "display_data",
          "data": {
            "text/plain": [
              "<IPython.lib.display.Audio object>"
            ],
            "text/html": [
              "\n",
              "                <audio  controls=\"controls\" autoplay=\"autoplay\">\n",
              "                    <source src=\"data:audio/x-wav;base64,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\" type=\"audio/x-wav\" />\n",
              "                    Your browser does not support the audio element.\n",
              "                </audio>\n",
              "              "
            ]
          },
          "metadata": {}
        }
      ]
    },
    {
      "cell_type": "markdown",
      "id": "862598a5",
      "metadata": {
        "id": "862598a5"
      },
      "source": [
        "### [실습문제]\n",
        "아래 조건을 만족하는 커피 자동주문 머신을 만들어보세요.<br><br>\n",
        "[커피 자동주문 머신]<br>\n",
        "친구들과 현금 커피 자동주문 머신 앞에서\n",
        " - 아메리카노 2잔과 카페라테 2잔 카푸치노 1잔을 주문하였다.\n",
        " - 아메리카노 한잔에 2500원이고\n",
        " - 카페라테는 한잔에 3000원\n",
        " - 카푸치노는 한잔에 3000원이다.\n",
        "커피 종류와 잔 수를 결정한 후 현금 15000원을 투입하고 잔돈을 1000원 받았다."
      ]
    },
    {
      "cell_type": "code",
      "execution_count": 1,
      "id": "0d6035c2",
      "metadata": {
        "colab": {
          "base_uri": "https://localhost:8080/"
        },
        "id": "0d6035c2",
        "outputId": "ff8910ba-f7dc-4ea3-f7a3-9eb487ac3b4d"
      },
      "outputs": [
        {
          "output_type": "stream",
          "name": "stdout",
          "text": [
            "[커피 자동주문 머신 메뉴]\n",
            "------------------------------\n",
            "-아메리카노는 2500원\n",
            "-카레라떼는 3000원\n",
            "-카푸치노는 3000원\n",
            "입니다. 원하시는 커피종류와 잔수를 입력하세요.\n",
            "------------------------------\n",
            "아메리카노 몇잔?1\n",
            "카페라떼 몇잔?1\n",
            "카푸치노 몇잔?1\n",
            "지불할 총 금액은 : 8500원 입니다.\n",
            "8500원을 넣어주세요.10000\n",
            "잔돈 1500원 입니다. 커피 맛있게 드세요~\n"
          ]
        }
      ],
      "source": [
        "from inspect import isfunction\n",
        "menu = '''[커피 자동주문 머신 메뉴]\n",
        "------------------------------\n",
        "-아메리카노는 2500원\n",
        "-카레라떼는 3000원\n",
        "-카푸치노는 3000원\n",
        "입니다. 원하시는 커피종류와 잔수를 입력하세요.\n",
        "------------------------------'''\n",
        "print(menu)\n",
        "coffee1 = int(input(\"아메리카노 몇잔?\"))\n",
        "coffee2 = int(input(\"카페라떼 몇잔?\"))\n",
        "coffee3 = int(input(\"카푸치노 몇잔?\"))\n",
        "\n",
        "\n",
        "total = 2500*coffee1 + 3000*coffee2 + 3000*coffee3\n",
        "print(f'지불할 총 금액은 : {total}원 입니다.')\n",
        "\n",
        "money = int(input(f'{total}원을 넣어주세요.'))\n",
        "if total > money:\n",
        "    print(f'돈이 부족합니다. {total - money}원을 더 넣어주세요.')\n",
        "else:\n",
        "    print(f'잔돈 {abs(total - money)}원 입니다. 커피 맛있게 드세요~')\n"
      ]
    },
    {
      "cell_type": "markdown",
      "source": [
        "###간소화된 조건문 표현식"
      ],
      "metadata": {
        "id": "6gpNIZ_VGYc_"
      },
      "id": "6gpNIZ_VGYc_"
    },
    {
      "cell_type": "code",
      "source": [
        "score=int(input('점수를 입력하세요 :'))\n",
        "if score>= 80:\n",
        "  message='성공'\n",
        "else:\n",
        "  message ='실패'\n",
        "print(f'{score}점 일때 {message}!')"
      ],
      "metadata": {
        "colab": {
          "base_uri": "https://localhost:8080/"
        },
        "id": "NQE4zhchGY-_",
        "outputId": "0367653c-5465-477c-bf18-a376e4020788"
      },
      "id": "NQE4zhchGY-_",
      "execution_count": 2,
      "outputs": [
        {
          "output_type": "stream",
          "name": "stdout",
          "text": [
            "점수를 입력하세요 :70\n",
            "70점 일때 실패!\n"
          ]
        }
      ]
    },
    {
      "cell_type": "code",
      "source": [
        "score=int(input('점수를 입력하세요 :'))\n",
        "print(f\"{score}점 일때 {'성공' if score >=80 else '실패'}!\")"
      ],
      "metadata": {
        "colab": {
          "base_uri": "https://localhost:8080/"
        },
        "id": "qJg9ryDUHFEt",
        "outputId": "039c2ee0-7f19-41a1-cecf-be22ab7b6271"
      },
      "id": "qJg9ryDUHFEt",
      "execution_count": 3,
      "outputs": [
        {
          "output_type": "stream",
          "name": "stdout",
          "text": [
            "점수를 입력하세요 :70\n",
            "70점 일때 실패!\n"
          ]
        }
      ]
    },
    {
      "cell_type": "markdown",
      "id": "67412428",
      "metadata": {
        "id": "67412428"
      },
      "source": [
        "## 3-2.반복문"
      ]
    },
    {
      "cell_type": "markdown",
      "id": "44197774",
      "metadata": {
        "id": "44197774"
      },
      "source": [
        "### 반복문: for 반복문"
      ]
    },
    {
      "cell_type": "code",
      "execution_count": 9,
      "id": "9f69ecc4",
      "metadata": {
        "scrolled": true,
        "colab": {
          "base_uri": "https://localhost:8080/"
        },
        "id": "9f69ecc4",
        "outputId": "eeace29c-e24a-4936-9b01-cab6168fad4f"
      },
      "outputs": [
        {
          "output_type": "stream",
          "name": "stdout",
          "text": [
            "1 번째 for 반복문입니다.\n",
            "2 번째 for 반복문입니다.\n",
            "3 번째 for 반복문입니다.\n"
          ]
        }
      ],
      "source": [
        "#for i in range(0,3,1):\n",
        "#for i in range(0,3):\n",
        "for i in range(3):\n",
        "  print(i+1, '번째 for 반복문입니다.')"
      ]
    },
    {
      "cell_type": "markdown",
      "source": [
        "###2. 문자열 길이를 이용하여 반복하기"
      ],
      "metadata": {
        "id": "Oa7oEmWTKATQ"
      },
      "id": "Oa7oEmWTKATQ"
    },
    {
      "cell_type": "code",
      "source": [
        "사과='apple'\n",
        "for i in 사과:\n",
        "  print(i)"
      ],
      "metadata": {
        "colab": {
          "base_uri": "https://localhost:8080/"
        },
        "id": "-nl2XGg-J_gF",
        "outputId": "fc1ef299-7e03-4ff9-eca6-2634be04f7af"
      },
      "id": "-nl2XGg-J_gF",
      "execution_count": 7,
      "outputs": [
        {
          "output_type": "stream",
          "name": "stdout",
          "text": [
            "a\n",
            "p\n",
            "p\n",
            "l\n",
            "e\n"
          ]
        }
      ]
    },
    {
      "cell_type": "code",
      "source": [
        "사과='apple'\n",
        "for i in 사과:\n",
        "  print('사과입니다.')"
      ],
      "metadata": {
        "colab": {
          "base_uri": "https://localhost:8080/"
        },
        "id": "geP9dBavKd5Z",
        "outputId": "3eefb345-7358-4763-8731-db243a359f56"
      },
      "id": "geP9dBavKd5Z",
      "execution_count": 8,
      "outputs": [
        {
          "output_type": "stream",
          "name": "stdout",
          "text": [
            "사과입니다.\n",
            "사과입니다.\n",
            "사과입니다.\n",
            "사과입니다.\n",
            "사과입니다.\n"
          ]
        }
      ]
    },
    {
      "cell_type": "markdown",
      "source": [
        "###3. 리스트를 이용하여 반복하기"
      ],
      "metadata": {
        "id": "VYSDH6NlLOKt"
      },
      "id": "VYSDH6NlLOKt"
    },
    {
      "cell_type": "code",
      "source": [
        "fruits=['포도', '사과', '오렌지','바나나', '체리']\n",
        "for fruit in fruits:\n",
        "  print(f'내가 좋아하는 과일 {fruit}!')\n"
      ],
      "metadata": {
        "colab": {
          "base_uri": "https://localhost:8080/"
        },
        "id": "VR9v2zmyLSVL",
        "outputId": "fabfd91b-4944-48e1-a0a6-91a2808cac3c"
      },
      "id": "VR9v2zmyLSVL",
      "execution_count": 11,
      "outputs": [
        {
          "output_type": "stream",
          "name": "stdout",
          "text": [
            "내가 좋아하는 과일 포도!\n",
            "내가 좋아하는 과일 사과!\n",
            "내가 좋아하는 과일 오렌지!\n",
            "내가 좋아하는 과일 바나나!\n",
            "내가 좋아하는 과일 체리!\n"
          ]
        }
      ]
    },
    {
      "cell_type": "code",
      "source": [
        "fruits=['포도', '사과', '오렌지','바나나', '체리']\n",
        "print('내가 좋아하는 과일은')\n",
        "for fruit in fruits:\n",
        "  print(fruit, end=' ')"
      ],
      "metadata": {
        "colab": {
          "base_uri": "https://localhost:8080/"
        },
        "id": "B3_nCFcOLx7-",
        "outputId": "22631c91-dd9e-475a-ec53-ebce6336801d"
      },
      "id": "B3_nCFcOLx7-",
      "execution_count": 13,
      "outputs": [
        {
          "output_type": "stream",
          "name": "stdout",
          "text": [
            "내가 좋아하는 과일은\n",
            "포도 사과 오렌지 바나나 체리 "
          ]
        }
      ]
    },
    {
      "cell_type": "markdown",
      "id": "8288e636",
      "metadata": {
        "id": "8288e636"
      },
      "source": [
        "### [실습문제]\n",
        "키보드로 양의 정수(n)을 입력 받아 1~n까지의 합을 구하는 프로그램을 만들어 보세요."
      ]
    },
    {
      "cell_type": "code",
      "execution_count": 4,
      "id": "d6774150",
      "metadata": {
        "colab": {
          "base_uri": "https://localhost:8080/"
        },
        "id": "d6774150",
        "outputId": "13e42165-20ab-4c72-d17c-ec927bb00369"
      },
      "outputs": [
        {
          "output_type": "stream",
          "name": "stdout",
          "text": [
            "합계를 구할 숫자 입력 하세요:9\n",
            "0+1\n",
            "1+2\n",
            "3+3\n",
            "6+4\n",
            "10+5\n",
            "15+6\n",
            "21+7\n",
            "28+8\n",
            "36+9\n",
            "1~9까지의 합은 45입니다.\n"
          ]
        }
      ],
      "source": [
        "# 1. 숫자 N을 입력하세요.\n",
        "n=int(input(f'합계를 구할 숫자 입력 하세요:'))\n",
        "\n",
        "\n",
        "\n",
        "# 2. 1~N까지 합계를 구하세요.\n",
        "hap=0\n",
        "for i in range(1, n+1,1):\n",
        "  print(f'{hap}+{i}')\n",
        "  hap=hap+i\n",
        "print(f'1~{n}까지의 합은 {hap}입니다.')"
      ]
    },
    {
      "cell_type": "markdown",
      "id": "aae06acb",
      "metadata": {
        "id": "aae06acb"
      },
      "source": [
        "### [실습문제]\n",
        "키보드로 양의 정수(n)을 입력 받아 1~n까지의 합을 구할 때 짝수를 제외하고 합을 구하는 프로그램을 만들어 보세요."
      ]
    },
    {
      "cell_type": "code",
      "execution_count": 3,
      "id": "c87285cf",
      "metadata": {
        "colab": {
          "base_uri": "https://localhost:8080/"
        },
        "id": "c87285cf",
        "outputId": "f4950e48-70f7-4b87-9ffa-0c32fff757b2"
      },
      "outputs": [
        {
          "output_type": "stream",
          "name": "stdout",
          "text": [
            "숫자를 입력하세요: 89\n",
            "1~89까지 합은 2025입니다.\n"
          ]
        }
      ],
      "source": [
        " # 방법1:\n",
        "n = int(input('숫자를 입력하세요: '))\n",
        "hap = 0\n",
        "for i in range(1,n+1,1):\n",
        "    if i%2 == 0 :  # 짝수\n",
        "        continue   # skip=pass 의미\n",
        "    else:\n",
        "        hap = hap + i\n",
        "print(f'1~{n}까지 합은 {hap}입니다.')\n"
      ]
    },
    {
      "cell_type": "code",
      "source": [
        "# 방법2:\n",
        "n = int(input('숫자를 입력하세요: '))\n",
        "hap = 0\n",
        "for i in range(1,n+1,2):\n",
        "    hap = hap + i\n",
        "print(f'1~{n}까지 합은 {hap}입니다.')\n"
      ],
      "metadata": {
        "colab": {
          "base_uri": "https://localhost:8080/"
        },
        "id": "I0TKPezWRBaO",
        "outputId": "020054bb-162d-456a-c78d-30d8d78a32bb"
      },
      "id": "I0TKPezWRBaO",
      "execution_count": 4,
      "outputs": [
        {
          "output_type": "stream",
          "name": "stdout",
          "text": [
            "숫자를 입력하세요: 89\n",
            "1~89까지 합은 2025입니다.\n"
          ]
        }
      ]
    },
    {
      "cell_type": "markdown",
      "id": "ac62e6f7",
      "metadata": {
        "id": "ac62e6f7"
      },
      "source": [
        "### 반복문: while 반복문"
      ]
    },
    {
      "cell_type": "code",
      "source": [],
      "metadata": {
        "id": "Ufm7VvHZWf0t"
      },
      "id": "Ufm7VvHZWf0t",
      "execution_count": null,
      "outputs": []
    },
    {
      "cell_type": "code",
      "execution_count": 6,
      "id": "f2fb3ce9",
      "metadata": {
        "colab": {
          "base_uri": "https://localhost:8080/"
        },
        "id": "f2fb3ce9",
        "outputId": "0637acd2-f30b-40f2-9a64-3750e0d3bdce"
      },
      "outputs": [
        {
          "output_type": "stream",
          "name": "stdout",
          "text": [
            "더할 첫 번째 숫자: 0\n",
            "0을 입력해서 반복문을 탈출했습니다.\n"
          ]
        }
      ],
      "source": [
        "num1, num2 = 0, 0\n",
        "\n",
        "while True:\n",
        "    num1 = int(input(\"더할 첫 번째 숫자: \"))\n",
        "    if num1 == 0:\n",
        "        break    #빠져나가야하는것이 있어야함.\n",
        "\n",
        "    num2 = int(input(\"더할 두 번째 숫자: \"))\n",
        "\n",
        "    print(f'{num1} + {num2} = {num1 + num2}')\n",
        "\n",
        "print(\"0을 입력해서 반복문을 탈출했습니다.\")"
      ]
    },
    {
      "cell_type": "markdown",
      "id": "02a797a4",
      "metadata": {
        "id": "02a797a4"
      },
      "source": [
        "### [실습문제] 도둑잡기 게임 만들기\n",
        "경찰에 쫓기던 범인이 3개의 방 중에 한 곳에 숨어버렸습니다. 범인은 방문을 열 때마다 무작위로 3개의 방 중 하나의 방으로 이동합니다. 3개의 방 중 하나의 방을 선택했을 때 범인이 있다면 100점, 없을 때 -10점을 부여하고 범인을 잡으면 게임을 종료하는 프로그램을 만들어 보세요."
      ]
    },
    {
      "cell_type": "code",
      "execution_count": 7,
      "id": "e08b9dc4",
      "metadata": {
        "colab": {
          "base_uri": "https://localhost:8080/",
          "height": 551
        },
        "id": "e08b9dc4",
        "outputId": "d2d7417b-5902-429b-cf46-f2a781a56855"
      },
      "outputs": [
        {
          "output_type": "stream",
          "name": "stdout",
          "text": [
            "도둣이 숨은 방 번호는?(1,2,3):1\n",
            "이 방에는 도둑이 없습니다.\n",
            "도둣이 숨은 방 번호는?(1,2,3):2\n",
            "이 방에는 도둑이 없습니다.\n",
            "도둣이 숨은 방 번호는?(1,2,3):3\n",
            "이 방에는 도둑이 없습니다.\n",
            "도둣이 숨은 방 번호는?(1,2,3):2\n",
            "이 방에는 도둑이 없습니다.\n"
          ]
        },
        {
          "output_type": "error",
          "ename": "KeyboardInterrupt",
          "evalue": "ignored",
          "traceback": [
            "\u001b[0;31m---------------------------------------------------------------------------\u001b[0m",
            "\u001b[0;31mKeyboardInterrupt\u001b[0m                         Traceback (most recent call last)",
            "\u001b[0;32m<ipython-input-7-3562863663a9>\u001b[0m in \u001b[0;36m<cell line: 4>\u001b[0;34m()\u001b[0m\n\u001b[1;32m      4\u001b[0m \u001b[0;32mwhile\u001b[0m \u001b[0;32mTrue\u001b[0m\u001b[0;34m:\u001b[0m\u001b[0;34m\u001b[0m\u001b[0;34m\u001b[0m\u001b[0m\n\u001b[1;32m      5\u001b[0m   \u001b[0mroom\u001b[0m\u001b[0;34m=\u001b[0m\u001b[0mrandom\u001b[0m\u001b[0;34m.\u001b[0m\u001b[0mrandint\u001b[0m\u001b[0;34m(\u001b[0m\u001b[0;36m1\u001b[0m\u001b[0;34m,\u001b[0m\u001b[0;36m3\u001b[0m\u001b[0;34m)\u001b[0m   \u001b[0;31m# 1~3정수 중 임의의 수 선택\u001b[0m\u001b[0;34m\u001b[0m\u001b[0;34m\u001b[0m\u001b[0m\n\u001b[0;32m----> 6\u001b[0;31m   \u001b[0mn\u001b[0m\u001b[0;34m=\u001b[0m\u001b[0mint\u001b[0m\u001b[0;34m(\u001b[0m\u001b[0minput\u001b[0m\u001b[0;34m(\u001b[0m\u001b[0;34m'도둣이 숨은 방 번호는?(1,2,3):'\u001b[0m\u001b[0;34m)\u001b[0m\u001b[0;34m)\u001b[0m\u001b[0;34m\u001b[0m\u001b[0;34m\u001b[0m\u001b[0m\n\u001b[0m\u001b[1;32m      7\u001b[0m   \u001b[0;31m#비교\u001b[0m\u001b[0;34m\u001b[0m\u001b[0;34m\u001b[0m\u001b[0m\n\u001b[1;32m      8\u001b[0m   \u001b[0;32mif\u001b[0m \u001b[0mn\u001b[0m\u001b[0;34m==\u001b[0m\u001b[0mroom\u001b[0m \u001b[0;34m:\u001b[0m\u001b[0;34m\u001b[0m\u001b[0;34m\u001b[0m\u001b[0m\n",
            "\u001b[0;32m/usr/local/lib/python3.10/dist-packages/ipykernel/kernelbase.py\u001b[0m in \u001b[0;36mraw_input\u001b[0;34m(self, prompt)\u001b[0m\n\u001b[1;32m    849\u001b[0m                 \u001b[0;34m\"raw_input was called, but this frontend does not support input requests.\"\u001b[0m\u001b[0;34m\u001b[0m\u001b[0;34m\u001b[0m\u001b[0m\n\u001b[1;32m    850\u001b[0m             )\n\u001b[0;32m--> 851\u001b[0;31m         return self._input_request(str(prompt),\n\u001b[0m\u001b[1;32m    852\u001b[0m             \u001b[0mself\u001b[0m\u001b[0;34m.\u001b[0m\u001b[0m_parent_ident\u001b[0m\u001b[0;34m,\u001b[0m\u001b[0;34m\u001b[0m\u001b[0;34m\u001b[0m\u001b[0m\n\u001b[1;32m    853\u001b[0m             \u001b[0mself\u001b[0m\u001b[0;34m.\u001b[0m\u001b[0m_parent_header\u001b[0m\u001b[0;34m,\u001b[0m\u001b[0;34m\u001b[0m\u001b[0;34m\u001b[0m\u001b[0m\n",
            "\u001b[0;32m/usr/local/lib/python3.10/dist-packages/ipykernel/kernelbase.py\u001b[0m in \u001b[0;36m_input_request\u001b[0;34m(self, prompt, ident, parent, password)\u001b[0m\n\u001b[1;32m    893\u001b[0m             \u001b[0;32mexcept\u001b[0m \u001b[0mKeyboardInterrupt\u001b[0m\u001b[0;34m:\u001b[0m\u001b[0;34m\u001b[0m\u001b[0;34m\u001b[0m\u001b[0m\n\u001b[1;32m    894\u001b[0m                 \u001b[0;31m# re-raise KeyboardInterrupt, to truncate traceback\u001b[0m\u001b[0;34m\u001b[0m\u001b[0;34m\u001b[0m\u001b[0m\n\u001b[0;32m--> 895\u001b[0;31m                 \u001b[0;32mraise\u001b[0m \u001b[0mKeyboardInterrupt\u001b[0m\u001b[0;34m(\u001b[0m\u001b[0;34m\"Interrupted by user\"\u001b[0m\u001b[0;34m)\u001b[0m \u001b[0;32mfrom\u001b[0m \u001b[0;32mNone\u001b[0m\u001b[0;34m\u001b[0m\u001b[0;34m\u001b[0m\u001b[0m\n\u001b[0m\u001b[1;32m    896\u001b[0m             \u001b[0;32mexcept\u001b[0m \u001b[0mException\u001b[0m \u001b[0;32mas\u001b[0m \u001b[0me\u001b[0m\u001b[0;34m:\u001b[0m\u001b[0;34m\u001b[0m\u001b[0;34m\u001b[0m\u001b[0m\n\u001b[1;32m    897\u001b[0m                 \u001b[0mself\u001b[0m\u001b[0;34m.\u001b[0m\u001b[0mlog\u001b[0m\u001b[0;34m.\u001b[0m\u001b[0mwarning\u001b[0m\u001b[0;34m(\u001b[0m\u001b[0;34m\"Invalid Message:\"\u001b[0m\u001b[0;34m,\u001b[0m \u001b[0mexc_info\u001b[0m\u001b[0;34m=\u001b[0m\u001b[0;32mTrue\u001b[0m\u001b[0;34m)\u001b[0m\u001b[0;34m\u001b[0m\u001b[0;34m\u001b[0m\u001b[0m\n",
            "\u001b[0;31mKeyboardInterrupt\u001b[0m: Interrupted by user"
          ]
        }
      ],
      "source": [
        "import random\n",
        "score=0\n",
        "\n",
        "while True:\n",
        "  room=random.randint(1,3)   # 1~3정수 중 임의의 수 선택\n",
        "  n=int(input('도둑이 숨은 방 번호는?(1,2,3):'))\n",
        "  #비교\n",
        "  if n==room :\n",
        "    print('찾았다! 도둑이 있는 방입니다')\n",
        "    score= score +100   # score += 100\n",
        "    break\n",
        "  else:\n",
        "    print('이 방에는 도둑이 없습니다.')\n",
        "    score -= 10\n",
        "\n",
        "print(f'도둑이 있는 방은{room}번 방입니다. 점수는 {score}점!')\n"
      ]
    },
    {
      "cell_type": "code",
      "source": [
        "import random\n",
        "score = 0\n",
        "while True:\n",
        "    room = random.randint(1, 3) # 1~3정수 중 임의의 수 선택\n",
        "    n = int(input('도둑이 숨은 방 번호는?(1,2,3): '))\n",
        "    # 비교\n",
        "    if n == room :\n",
        "        print('찾았다! 도둑이 있는 방입니다.')\n",
        "        score = score + 100 # socre += 100\n",
        "        break\n",
        "    else:\n",
        "        print('이 방에는 도둑이 없습니다.')\n",
        "        score -= 10\n",
        "print('게임이 종료됩니다.')\n",
        "print(f'도둑이 있는 방은 {room}번 방입니다. 점수는 {score}점!')"
      ],
      "metadata": {
        "colab": {
          "base_uri": "https://localhost:8080/"
        },
        "id": "h2QJ2q94aIuo",
        "outputId": "41b27ad0-da7e-4aea-8fab-4ec3bbac8291"
      },
      "id": "h2QJ2q94aIuo",
      "execution_count": 10,
      "outputs": [
        {
          "output_type": "stream",
          "name": "stdout",
          "text": [
            "도둑이 숨은 방 번호는?(1,2,3): 1\n",
            "찾았다! 도둑이 있는 방입니다.\n",
            "게임이 종료됩니다.\n",
            "도둑이 있는 방은 1번 방입니다. 점수는 100점!\n"
          ]
        }
      ]
    },
    {
      "cell_type": "markdown",
      "id": "0d03701c",
      "metadata": {
        "id": "0d03701c"
      },
      "source": [
        "### [실습문제] 공이 튕긴 횟수 구하기\n",
        "공을 일정 높이에서 떨어뜨리면, 원래 높이의 1/2만큼 튀어 오릅니다. 이를 반복하다가 높이가 0.00001m보다 낮으면 튀어 오르지 않습니다. while문을 이용하여 공이 튀어 오르는 총 횟수를 구하는 프로그램을 만들어 보세요."
      ]
    },
    {
      "cell_type": "code",
      "execution_count": null,
      "id": "1ac5675e",
      "metadata": {
        "scrolled": true,
        "id": "1ac5675e"
      },
      "outputs": [],
      "source": [
        "\n"
      ]
    },
    {
      "cell_type": "markdown",
      "id": "ecdb476f",
      "metadata": {
        "id": "ecdb476f"
      },
      "source": [
        "### [실습문제] 커피 자동주문 프로그램 업그레이드\n",
        "앞에서 만들어 본 커피 자동주문 머신 프로그램을 while문을 이용하여 돈을 모두 지불할 때까지 돈을 입력 받도록 프로그램 기능 수정하기"
      ]
    },
    {
      "cell_type": "code",
      "execution_count": 11,
      "id": "2ce8fbfc",
      "metadata": {
        "scrolled": true,
        "colab": {
          "base_uri": "https://localhost:8080/"
        },
        "id": "2ce8fbfc",
        "outputId": "66aad5ed-925c-454f-f745-ea188ea43ef8"
      },
      "outputs": [
        {
          "output_type": "stream",
          "name": "stdout",
          "text": [
            "[커피 자동주문 머신 메뉴]\n",
            "------------------------------\n",
            "-아메리카노는 2500원\n",
            "-카레라떼는 3000원\n",
            "-카푸치노는 3000원\n",
            "입니다. 원하시는 커피종류와 잔수를 입력하세요.\n",
            "------------------------------\n",
            "아메리카노 몇잔?1\n",
            "카페라떼 몇잔?1\n",
            "카푸치노 몇잔?1\n",
            "지불할 총 금액은  8500 원 입니다\n",
            "--------------------------------------------------\n",
            "[지불할 금액:8500] : 돈을 넣어주세요: 1000\n",
            "입력한 금액이 부족합니다. 7500 원을 더 넣어주세요.\n",
            "--------------------------------------------------\n",
            "[지불할 금액:7500] : 돈을 넣어주세요: 4000\n",
            "입력한 금액이 부족합니다. 3500 원을 더 넣어주세요.\n",
            "--------------------------------------------------\n",
            "[지불할 금액:3500] : 돈을 넣어주세요: 4000\n",
            "거스름돈은 500원 입니다.\n",
            "--------------------------------------------------\n",
            " 커피 맛있게 드세요.\n"
          ]
        }
      ],
      "source": [
        "menu = '''[커피 자동주문 머신 메뉴]\n",
        "------------------------------\n",
        "-아메리카노는 2500원\n",
        "-카레라떼는 3000원\n",
        "-카푸치노는 3000원\n",
        "입니다. 원하시는 커피종류와 잔수를 입력하세요.\n",
        "------------------------------'''\n",
        "print(menu)\n",
        "coffee1 = int(input(\"아메리카노 몇잔?\"))\n",
        "coffee2 = int(input(\"카페라떼 몇잔?\"))\n",
        "coffee3 = int(input(\"카푸치노 몇잔?\"))\n",
        "\n",
        "total = coffee1*2500 + coffee2*3000 + coffee3*3000\n",
        "print(\"지불할 총 금액은 \", total, \"원 입니다\")\n",
        "\n",
        "while True:\n",
        "    print('-'*50)\n",
        "    money = int(input(f'[지불할 금액:{total}] : 돈을 넣어주세요: '))\n",
        "    if total > money  :\n",
        "        print(f'입력한 금액이 부족합니다. {total - money} 원을 더 넣어주세요.')\n",
        "        total = total - money\n",
        "    else:\n",
        "        print(f'거스름돈은 {money - total}원 입니다.')\n",
        "        break\n",
        "\n",
        "print('-'*50)\n",
        "print(' 커피 맛있게 드세요.')\n",
        "\n",
        "\n",
        "\n"
      ]
    },
    {
      "cell_type": "markdown",
      "id": "af0e48ab",
      "metadata": {
        "id": "af0e48ab"
      },
      "source": [
        "## 3-3.난수(Random Variable)"
      ]
    },
    {
      "cell_type": "markdown",
      "id": "e34c55ca",
      "metadata": {
        "id": "e34c55ca"
      },
      "source": [
        "### [실습문제] 임의의 두 수 합 구하기\n",
        "1부터 10까지의 범위를 갖는 임의의 두 정수 a, b를 더하여 결과 출력하기"
      ]
    },
    {
      "cell_type": "code",
      "execution_count": null,
      "id": "3c007936",
      "metadata": {
        "id": "3c007936"
      },
      "outputs": [],
      "source": []
    },
    {
      "cell_type": "markdown",
      "id": "357e1bdd",
      "metadata": {
        "id": "357e1bdd"
      },
      "source": [
        "### [실습문제]\n",
        "주사위를 100번 던져서 나오는 숫자를 각 숫자별로 카운트하고 가장 많이 나온 숫자와 그 숫자의 횟수를 출력하시오."
      ]
    },
    {
      "cell_type": "code",
      "execution_count": null,
      "id": "782da2b4",
      "metadata": {
        "id": "782da2b4"
      },
      "outputs": [],
      "source": []
    },
    {
      "cell_type": "markdown",
      "id": "45e329e4",
      "metadata": {
        "id": "45e329e4"
      },
      "source": [
        "------------------------"
      ]
    },
    {
      "cell_type": "markdown",
      "id": "66025633",
      "metadata": {
        "id": "66025633"
      },
      "source": [
        "끝"
      ]
    }
  ],
  "metadata": {
    "kernelspec": {
      "display_name": "Python 3 (ipykernel)",
      "language": "python",
      "name": "python3"
    },
    "language_info": {
      "codemirror_mode": {
        "name": "ipython",
        "version": 3
      },
      "file_extension": ".py",
      "mimetype": "text/x-python",
      "name": "python",
      "nbconvert_exporter": "python",
      "pygments_lexer": "ipython3",
      "version": "3.10.9"
    },
    "vscode": {
      "interpreter": {
        "hash": "b41e41bff03a930185ac2cbea60ce521f7c8c2f5401ceb5c30214081f77ab4f5"
      }
    },
    "colab": {
      "provenance": [],
      "include_colab_link": true
    }
  },
  "nbformat": 4,
  "nbformat_minor": 5
}